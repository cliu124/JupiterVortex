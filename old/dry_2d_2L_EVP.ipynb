{
 "cells": [
  {
   "cell_type": "code",
   "execution_count": 1,
   "id": "79a0037e",
   "metadata": {},
   "outputs": [],
   "source": [
    "import numpy as np\n",
    "import dedalus.public as d3\n",
    "import matplotlib.pyplot as plt"
   ]
  },
  {
   "cell_type": "code",
   "execution_count": 1,
   "id": "32820d68",
   "metadata": {},
   "outputs": [
    {
     "data": {
      "text/plain": [
       "0.7198176581830783"
      ]
     },
     "execution_count": 1,
     "metadata": {},
     "output_type": "execute_result"
    }
   ],
   "source": [
    "import numpy as np \n",
    "a = 6.99e7\n",
    "T = 9.925*3600\n",
    "L = 1e7\n",
    "4 * np.pi / a / a / T * (L**3) / 100\n"
   ]
  },
  {
   "cell_type": "code",
   "execution_count": null,
   "id": "81b443c8",
   "metadata": {},
   "outputs": [],
   "source": []
  },
  {
   "cell_type": "code",
   "execution_count": 2,
   "id": "be4d0e27",
   "metadata": {},
   "outputs": [],
   "source": [
    "# physical parameters\n",
    "L_scale = 6.99e7/2/np.pi  # 6.99e7 m is the radius of Jupiter, divided by 2π sets a natural length scale in units 2π.\n",
    "Omega_scale = 2 * np.pi /(9.925*3600)/4/(np.pi)**2\n",
    "f0 = 8 * np.pi \n",
    "g0 = 24 # gravity at the surface of Jupiter in m/s^2\n",
    "p0 = 1e4 # reference pressure in Pa\n",
    "T0 = 200 # reference temperature in K\n",
    "Rd = 8.315/0.002 # gas constant \n",
    "H1 = 1e5/ L_scale\n",
    "delta = 1\n",
    "H2 = delta * H1\n",
    "g = g0 /(L_scale*Omega_scale**2)  # g0 = 24; g = g0/(L_scale*Omega_scale^2)     # gravity\n",
    "rho1 = p0 / Rd / T0 * np.exp(g0 * H1 / Rd / T0) # density at the surface of Jupiter\n",
    "rho2 = p0 / Rd / T0 * (np.exp(g0 * (H1 + H2) / Rd / T0)) # density at the surface of Jupiter\n",
    "gprime = g * (rho2 - rho1) / rho2 # reduced gravity\n",
    "\n",
    "gamma = 2.0\n",
    "u0 = 50  / L_scale / Omega_scale\n",
    "F1 = f0**2 / gprime / H1\n",
    "F2 = f0**2 / gprime / H2\n",
    "\n",
    "kphi = 6\n",
    "# m = 6\n",
    "# Nphi = 2 * m + 2\n",
    "Nr = 64\n",
    "dtype = np.complex128\n",
    "\n",
    "disk_r = np.pi\n"
   ]
  },
  {
   "cell_type": "code",
   "execution_count": 3,
   "id": "8cc29782",
   "metadata": {},
   "outputs": [],
   "source": [
    "# Bases\n",
    "coords = d3.PolarCoordinates('phi', 'r')\n",
    "dist = d3.Distributor(coords, dtype=dtype)\n",
    "disk = d3.DiskBasis(coords, shape=(1, Nr), radius=disk_r, dtype=dtype)\n",
    "phi, r = dist.local_grids(disk)\n",
    "\n",
    "# Fields\n",
    "s = dist.Field(name='s')\n",
    "psi1 = dist.Field(name='psi1', bases=disk)\n",
    "psi2 = dist.Field(name='psi2', bases=disk)\n",
    "tau_psi1 = dist.Field(name='tau_psi1', bases=disk.edge)\n",
    "tau_psi2 = dist.Field(name='tau_psi2', bases=disk.edge)\n"
   ]
  },
  {
   "cell_type": "code",
   "execution_count": 4,
   "id": "d83e00e2",
   "metadata": {},
   "outputs": [],
   "source": [
    "# Substitutions\n",
    "dt = lambda A: s*A\n",
    "lift_basis = disk.derivative_basis(2)\n",
    "lift = lambda A: d3.Lift(A, lift_basis, -1)\n",
    "# define a unit vector in the azimuthal direction \n",
    "dphi = lambda A: 1j*kphi*A  # azimuthal derivative dphi(A)\n",
    "r_field = dist.Field(name='r_field', bases=disk)\n",
    "r_field['g'] = r  # assign the grid values to the field\n"
   ]
  },
  {
   "cell_type": "code",
   "execution_count": 5,
   "id": "4b2fc4ab",
   "metadata": {},
   "outputs": [],
   "source": [
    "# Background\n",
    "Qr1 = dist.Field(name='Qr1', bases=disk.radial_basis)\n",
    "Qr2 = dist.Field(name='Qr2', bases=disk.radial_basis)\n",
    "Qr1['g'] = - gamma * r - 2 * F1 * u0 * r\n",
    "Qr2['g'] = - gamma * r + 2 * F2 * u0 * r\n"
   ]
  },
  {
   "cell_type": "code",
   "execution_count": 6,
   "id": "c458f3f1",
   "metadata": {},
   "outputs": [
    {
     "data": {
      "text/plain": [
       "{'eqn': interp(<Field 140643312919376>, r=3.141592653589793),\n",
       " 'LHS': interp(<Field 140643312919376>, r=3.141592653589793),\n",
       " 'RHS': 0,\n",
       " 'condition': 'True',\n",
       " 'tensorsig': (),\n",
       " 'dtype': numpy.complex128,\n",
       " 'valid_modes': array([[ True]]),\n",
       " 'M': 0,\n",
       " 'L': interp(<Field 140643312919376>, r=3.141592653589793),\n",
       " 'domain': <dedalus.core.domain.Domain at 0x7fea12a18c20>,\n",
       " 'matrix_dependence': array([ True,  True]),\n",
       " 'matrix_coupling': array([False,  True])}"
      ]
     },
     "execution_count": 6,
     "metadata": {},
     "output_type": "execute_result"
    }
   ],
   "source": [
    "# Problem\n",
    "problem = d3.EVP([psi1, psi2, tau_psi1, tau_psi2], eigenvalue=s, namespace=locals())\n",
    "# q1 = lap(psi1) - F1 * (psi1 - psi2)\n",
    "# q2 = lap(psi2) + F2 * (psi1 - psi2)\n",
    "problem.add_equation(\"dt((lap(psi1))-F1*(psi1-psi2))+ u0 * r_field * dphi((lap(psi1))-F1*(psi1-psi2)) - Qr1 * dphi(psi1) +lift(tau_psi1)=0\")\n",
    "problem.add_equation(\"dt((lap(psi2))+F2*(psi1-psi2))- u0 * r_field * dphi((lap(psi2))+F2*(psi1-psi2)) - Qr2 * dphi(psi2) +lift(tau_psi2)=0\")\n",
    "problem.add_equation(\"psi1(r=disk_r) = 0\")\n",
    "problem.add_equation(\"psi2(r=disk_r) = 0\")\n",
    "# problem.add_equation(\"psi1(r=0) = 0\")\n",
    "# problem.add_equation(\"psi2(r=0) = 0\")\n",
    "# problem.add_equation(\"dphi(psi1)(r=1) = 0\") \n"
   ]
  },
  {
   "cell_type": "code",
   "execution_count": 7,
   "id": "d20e4719",
   "metadata": {},
   "outputs": [
    {
     "name": "stdout",
     "output_type": "stream",
     "text": [
      "2025-07-17 08:16:41,187 subsystems 0/1 INFO :: Building subproblem matrices 1/1 (~100%) Elapsed: 0s, Remaining: 0s, Rate: 3.7e+00/s\n",
      "Slowest decaying mode: λ = (18.93201520340718+0.015386760115815985j)\n"
     ]
    }
   ],
   "source": [
    "solver = problem.build_solver()\n",
    "# sp = solver.subproblems_by_group[(1, None)]\n",
    "sp = solver.subproblems[0]\n",
    "solver.solve_dense(sp)\n",
    "# solver.solve_dense(solver.subproblems[0])\n",
    "evals = solver.eigenvalues[np.isfinite(solver.eigenvalues)]\n",
    "evals = evals[np.argsort(-evals.real)]\n",
    "print(f\"Slowest decaying mode: λ = {evals[0]}\")\n",
    "solver.set_state(np.argmin(np.abs(solver.eigenvalues - evals[0])), sp.subsystems[0])\n",
    "# solver.set_state(np.argmin(np.abs(solver.eigenvalues - evals[0])), 0)\n"
   ]
  },
  {
   "cell_type": "code",
   "execution_count": null,
   "id": "db82a2d3",
   "metadata": {},
   "outputs": [],
   "source": []
  },
  {
   "cell_type": "code",
   "execution_count": 8,
   "id": "31bada76",
   "metadata": {},
   "outputs": [],
   "source": [
    "\n",
    "# Plot eigenfunction\n",
    "scales = (32, 4)\n",
    "# ω = d3.div(d3.skew(psi1)).evaluate()\n",
    "# ω.change_scales(scales)\n",
    "psi1.change_scales(scales)\n",
    "psi2.change_scales(scales)\n",
    "phi, r = dist.local_grids(disk, scales=scales)\n",
    "x, y = coords.cartesian(phi, r)\n"
   ]
  },
  {
   "cell_type": "code",
   "execution_count": 9,
   "id": "f73d5a0c",
   "metadata": {},
   "outputs": [
    {
     "data": {
      "text/plain": [
       "(1, 256)"
      ]
     },
     "execution_count": 9,
     "metadata": {},
     "output_type": "execute_result"
    }
   ],
   "source": [
    "psi1['g'].shape "
   ]
  },
  {
   "cell_type": "code",
   "execution_count": 10,
   "id": "501a8963",
   "metadata": {},
   "outputs": [
    {
     "data": {
      "text/plain": [
       "np.complex128(-0.005469489213243689-0.013651385953711317j)"
      ]
     },
     "execution_count": 10,
     "metadata": {},
     "output_type": "execute_result"
    }
   ],
   "source": [
    "psi1['g'][0,0]"
   ]
  },
  {
   "cell_type": "code",
   "execution_count": 11,
   "id": "96c28e9d",
   "metadata": {},
   "outputs": [
    {
     "data": {
      "text/plain": [
       "(256,)"
      ]
     },
     "execution_count": 11,
     "metadata": {},
     "output_type": "execute_result"
    }
   ],
   "source": [
    "x[0].shape "
   ]
  },
  {
   "cell_type": "code",
   "execution_count": 12,
   "id": "5c310446",
   "metadata": {},
   "outputs": [
    {
     "data": {
      "text/plain": [
       "(1, 256)"
      ]
     },
     "execution_count": 12,
     "metadata": {},
     "output_type": "execute_result"
    }
   ],
   "source": [
    "r.shape"
   ]
  },
  {
   "cell_type": "code",
   "execution_count": null,
   "id": "ca218c64",
   "metadata": {},
   "outputs": [
    {
     "data": {
      "text/plain": [
       "Text(0.5, 1.0, '$\\\\psi_2$')"
      ]
     },
     "execution_count": 17,
     "metadata": {},
     "output_type": "execute_result"
    },
    {
     "data": {
      "image/png": "[encoded data removed]",
      "text/plain": [
       "<Figure size 800x400 with 2 Axes>"
      ]
     },
     "metadata": {},
     "output_type": "display_data"
    }
   ],
   "source": [
    "\n",
    "cmap = 'RdBu_r'\n",
    "fig, ax = plt.subplots(1, 2, figsize=(8, 4))\n",
    "# ax[0,0].pcolormesh(x, y, psi1['g'].real, cmap=cmap)\n",
    "# ax[0,0].set_title(r\"$\\psi_1$\")\n",
    "# ax[0,1].pcolormesh(x, y, psi2['g'].real, cmap=cmap)\n",
    "# ax[0,1].set_title(r\"$\\psi_2$\")\n",
    "xxn = 0\n",
    "ax[0].plot(r[0][xxn:], psi1['g'][0][xxn:].real )\n",
    "ax[0].plot([0,disk_r],[0,0],'--',color='black')\n",
    "ax[0].set_title(r\"$\\psi_1$\")\n",
    "ax[1].plot(r[0][xxn:], psi2['g'][0][xxn:].real )\n",
    "ax[1].plot([0,disk_r],[0,0],'--',color='black')\n",
    "ax[1].set_title(r\"$\\psi_2$\")\n",
    "\n",
    "# print(psi1['g'].real[:10] * L_scale)\n"
   ]
  },
  {
   "cell_type": "code",
   "execution_count": null,
   "id": "4775a162",
   "metadata": {},
   "outputs": [],
   "source": [
    "q1 = d3.Laplacian(psi1) - F1 * (psi1 - psi2)\n",
    "q2 = d3.Laplacian(psi2) + F2 * (psi1 - psi2)"
   ]
  },
  {
   "cell_type": "code",
   "execution_count": 27,
   "id": "a33c1cac",
   "metadata": {},
   "outputs": [
    {
     "data": {
      "text/plain": [
       "(1, 64)"
      ]
     },
     "execution_count": 27,
     "metadata": {},
     "output_type": "execute_result"
    }
   ],
   "source": [
    "d3.Laplacian(psi1)['g'].shape "
   ]
  },
  {
   "cell_type": "code",
   "execution_count": 29,
   "id": "b307bcbf",
   "metadata": {},
   "outputs": [
    {
     "data": {
      "text/plain": [
       "(1, 64)"
      ]
     },
     "execution_count": 29,
     "metadata": {},
     "output_type": "execute_result"
    }
   ],
   "source": [
    "q1['g'].shape"
   ]
  },
  {
   "cell_type": "code",
   "execution_count": 32,
   "id": "279806f0",
   "metadata": {},
   "outputs": [
    {
     "data": {
      "text/plain": [
       "Text(0.5, 1.0, '$q_2$')"
      ]
     },
     "execution_count": 32,
     "metadata": {},
     "output_type": "execute_result"
    },
    {
     "data": {
      "image/png": "[encoded data removed]",
      "text/plain": [
       "<Figure size 800x400 with 2 Axes>"
      ]
     },
     "metadata": {},
     "output_type": "display_data"
    }
   ],
   "source": [
    "fig, ax = plt.subplots(1, 2, figsize=(8, 4))\n",
    "xxn = 0\n",
    "ax[0].plot(d3.Laplacian(psi1)['g'][0][xxn:].real )\n",
    "# ax[0].plot([0,disk_r],[0,0],'--',color='black')\n",
    "ax[0].set_title(r\"$q_1$\")\n",
    "ax[1].plot(d3.Laplacian(psi1)['g'][0][xxn:].real )\n",
    "# ax[1].plot([0,disk_r],[0,0],'--',color='black')\n",
    "ax[1].set_title(r\"$q_2$\")"
   ]
  },
  {
   "cell_type": "code",
   "execution_count": 31,
   "id": "2896fcbe",
   "metadata": {},
   "outputs": [
    {
     "data": {
      "text/plain": [
       "Text(0.5, 1.0, '$q_2$')"
      ]
     },
     "execution_count": 31,
     "metadata": {},
     "output_type": "execute_result"
    },
    {
     "data": {
      "image/png": "[encoded data removed]",
      "text/plain": [
       "<Figure size 800x400 with 2 Axes>"
      ]
     },
     "metadata": {},
     "output_type": "display_data"
    }
   ],
   "source": [
    "fig, ax = plt.subplots(1, 2, figsize=(8, 4))\n",
    "xxn = 0\n",
    "ax[0].plot(q1['g'][0][xxn:].real )\n",
    "# ax[0].plot([0,disk_r],[0,0],'--',color='black')\n",
    "ax[0].set_title(r\"$q_1$\")\n",
    "ax[1].plot(q2['g'][0][xxn:].real )\n",
    "# ax[1].plot([0,disk_r],[0,0],'--',color='black')\n",
    "ax[1].set_title(r\"$q_2$\")"
   ]
  },
  {
   "cell_type": "code",
   "execution_count": 14,
   "id": "5b9f3635",
   "metadata": {},
   "outputs": [],
   "source": [
    "d3.DiskBasis(coords, shape=(1, Nr), radius=np.pi, dtype=dtype)\n",
    "psi1_disk = dist.Field(name='psi1_disk', bases=disk)"
   ]
  },
  {
   "cell_type": "code",
   "execution_count": null,
   "id": "7913d8c3",
   "metadata": {},
   "outputs": [],
   "source": []
  }
 ],
 "metadata": {
  "kernelspec": {
   "display_name": "dedalus3",
   "language": "python",
   "name": "python3"
  },
  "language_info": {
   "codemirror_mode": {
    "name": "ipython",
    "version": 3
   },
   "file_extension": ".py",
   "mimetype": "text/x-python",
   "name": "python",
   "nbconvert_exporter": "python",
   "pygments_lexer": "ipython3",
   "version": "3.12.11"
  }
 },
 "nbformat": 4,
 "nbformat_minor": 5
}
