{
 "cells": [
  {
   "cell_type": "code",
   "execution_count": 1,
   "id": "c3796b68",
   "metadata": {},
   "outputs": [],
   "source": [
    "import numpy as np \n",
    "import matplotlib.pyplot as plt\n",
    "from scipy.special import jn_zeros\n",
    "\n",
    "%load_ext autoreload\n",
    "%autoreload 2"
   ]
  },
  {
   "cell_type": "code",
   "execution_count": 2,
   "id": "10eb7969",
   "metadata": {},
   "outputs": [],
   "source": [
    "def Jmk(m, a, n=1):\n",
    "    x_zeros = jn_zeros(m, n)\n",
    "    km_n = x_zeros / a\n",
    "    return km_n"
   ]
  },
  {
   "cell_type": "code",
   "execution_count": 10,
   "id": "ac8a997f",
   "metadata": {},
   "outputs": [],
   "source": [
    "# define physical parameters\n",
    "omega = 2 * np.pi /(9.925*3600)  # rotation rate of Jupiter in rad/s\n",
    "a = 6.99e7 # radius of Jupiter in m\n",
    "gamma = 2 * omega / ( a**2 )\n",
    "# gamma = 0 \n",
    "H1 = 1e5\n",
    "delta = 1\n",
    "H2 = delta * H1\n",
    "f0 = 2 * omega # Coriolis parameter \n",
    "g0 = 24 # gravity at the surface of Jupiter in m/s^2\n",
    "p0 = 1e4 # reference pressure in Pa\n",
    "T0 = 110 # reference temperature in K\n",
    "Rd = 8.315/0.002 # gas constant \n",
    "# rho1 = p0 / g0 / H1 * np.exp(g0 * H1 / Rd / T0) # density at the surface of Jupiter\n",
    "# p1 = rho1 * g0 * H1 # pressure at the surface of Jupiter\n",
    "# rho2 = p1 / g0 / H2 * (np.exp(g0 * (H1 + H2) / Rd / T0) - 1) # density at the surface of Jupiter\n",
    "rho1 = p0 / Rd / T0 * np.exp(g0 * H1 / Rd / T0) # density at the surface of Jupiter\n",
    "rho2 = p0 / Rd / T0 * (np.exp(g0 * (H1 + H2) / Rd / T0)) # density at the surface of Jupiter\n",
    "gprime = g0 * (rho2 - rho1) / rho2 # reduced gravity\n",
    "F1 = f0**2 / gprime / H1\n",
    "F2 = f0**2 / gprime / H2\n",
    "# find some k \n",
    "n = 1\n",
    "m = 20\n",
    "k = np.asarray([Jmk(i, a, n=n) for i in range(m)]).reshape(m, n)\n",
    "u0 = 5000\n"
   ]
  },
  {
   "cell_type": "code",
   "execution_count": 11,
   "id": "d5be2e76",
   "metadata": {},
   "outputs": [
    {
     "data": {
      "text/plain": [
       "4.158272948079287"
      ]
     },
     "execution_count": 11,
     "metadata": {},
     "output_type": "execute_result"
    }
   ],
   "source": [
    "rho1"
   ]
  },
  {
   "cell_type": "code",
   "execution_count": 12,
   "id": "e8d7cdbc",
   "metadata": {},
   "outputs": [
    {
     "data": {
      "text/plain": [
       "790.7713548223685"
      ]
     },
     "execution_count": 12,
     "metadata": {},
     "output_type": "execute_result"
    }
   ],
   "source": [
    "rho2"
   ]
  },
  {
   "cell_type": "code",
   "execution_count": 13,
   "id": "93d4ee38",
   "metadata": {},
   "outputs": [
    {
     "data": {
      "text/plain": [
       "23.873795946014862"
      ]
     },
     "execution_count": 13,
     "metadata": {},
     "output_type": "execute_result"
    }
   ],
   "source": [
    "gprime "
   ]
  },
  {
   "cell_type": "code",
   "execution_count": 18,
   "id": "a54b773d",
   "metadata": {},
   "outputs": [
    {
     "data": {
      "text/plain": [
       "5.181222204917299"
      ]
     },
     "execution_count": 18,
     "metadata": {},
     "output_type": "execute_result"
    }
   ],
   "source": [
    "F1 * 1e14"
   ]
  },
  {
   "cell_type": "code",
   "execution_count": 17,
   "id": "40c789d1",
   "metadata": {},
   "outputs": [
    {
     "data": {
      "text/plain": [
       "5.181222204917299"
      ]
     },
     "execution_count": 17,
     "metadata": {},
     "output_type": "execute_result"
    }
   ],
   "source": [
    "F2 * 1e14"
   ]
  },
  {
   "cell_type": "code",
   "execution_count": null,
   "id": "7ab2bee4",
   "metadata": {},
   "outputs": [],
   "source": []
  },
  {
   "cell_type": "code",
   "execution_count": null,
   "id": "04e4a2a2",
   "metadata": {},
   "outputs": [],
   "source": []
  },
  {
   "cell_type": "code",
   "execution_count": 14,
   "id": "10b00c0c",
   "metadata": {},
   "outputs": [],
   "source": [
    "AA = (k**2 + F1) * (k**2 + F2) - F1 * F2\n",
    "BB = (k**2 + F1) * (gamma - 2 * F2 * u0 + (k**2 + F2) * u0) + (k**2 + F2) * (gamma + 2 * F1 * u0 - (k**2 + F1) * u0)\n",
    "CC = (gamma + 2 * F1 * u0 - (k**2 + F1) * u0) * (gamma - 2 * F2 * u0 + (k**2 + F2) * u0) - F1 * F2 * u0**2"
   ]
  },
  {
   "cell_type": "code",
   "execution_count": 15,
   "id": "9adc755f",
   "metadata": {},
   "outputs": [
    {
     "data": {
      "text/plain": [
       "array([[8.02856764e-33],\n",
       "       [8.29076753e-33],\n",
       "       [8.63528436e-33],\n",
       "       [9.05756601e-33],\n",
       "       [9.55482069e-33],\n",
       "       [1.01251323e-32],\n",
       "       [1.07670874e-32],\n",
       "       [1.14795766e-32],\n",
       "       [1.22617182e-32],\n",
       "       [1.31127820e-32],\n",
       "       [1.40321545e-32],\n",
       "       [1.50193086e-32],\n",
       "       [1.60737878e-32],\n",
       "       [1.71951909e-32],\n",
       "       [1.83831638e-32],\n",
       "       [1.96373854e-32],\n",
       "       [2.09575714e-32],\n",
       "       [2.23434675e-32],\n",
       "       [2.37948268e-32],\n",
       "       [2.53114497e-32]])"
      ]
     },
     "execution_count": 15,
     "metadata": {},
     "output_type": "execute_result"
    }
   ],
   "source": [
    "BB"
   ]
  },
  {
   "cell_type": "code",
   "execution_count": 16,
   "id": "8d4cbb6d",
   "metadata": {},
   "outputs": [
    {
     "data": {
      "text/plain": [
       "array([[1.30615623e-28],\n",
       "       [3.37071079e-28],\n",
       "       [6.18430600e-28],\n",
       "       [9.78920550e-28],\n",
       "       [1.42547757e-27],\n",
       "       [1.96702008e-27],\n",
       "       [2.61413590e-27],\n",
       "       [3.37891870e-27],\n",
       "       [4.27487083e-27],\n",
       "       [5.31683996e-27],\n",
       "       [6.52097505e-27],\n",
       "       [7.90469399e-27],\n",
       "       [9.48665894e-27],\n",
       "       [1.12867569e-26],\n",
       "       [1.33260839e-26],\n",
       "       [1.56269318e-26],\n",
       "       [1.82127777e-26],\n",
       "       [2.11082740e-26],\n",
       "       [2.43392404e-26],\n",
       "       [2.79326569e-26]])"
      ]
     },
     "execution_count": 16,
     "metadata": {},
     "output_type": "execute_result"
    }
   ],
   "source": [
    "AA "
   ]
  },
  {
   "cell_type": "code",
   "execution_count": 17,
   "id": "bbc6a068",
   "metadata": {},
   "outputs": [
    {
     "data": {
      "text/plain": [
       "array([[-1.45777809e-19],\n",
       "       [-1.40997846e-19],\n",
       "       [-1.34969299e-19],\n",
       "       [-1.27970606e-19],\n",
       "       [-1.20280840e-19],\n",
       "       [-1.12195704e-19],\n",
       "       [-1.04033691e-19],\n",
       "       [-9.61388946e-20],\n",
       "       [-8.88824218e-20],\n",
       "       [-8.26631405e-20],\n",
       "       [-7.79080797e-20],\n",
       "       [-7.50726398e-20],\n",
       "       [-7.46406922e-20],\n",
       "       [-7.71246137e-20],\n",
       "       [-8.30652803e-20],\n",
       "       [-9.30320367e-20],\n",
       "       [-1.07622652e-19],\n",
       "       [-1.27463263e-19],\n",
       "       [-1.53208318e-19],\n",
       "       [-1.85540516e-19]])"
      ]
     },
     "execution_count": 17,
     "metadata": {},
     "output_type": "execute_result"
    }
   ],
   "source": [
    "CC"
   ]
  },
  {
   "cell_type": "code",
   "execution_count": 8,
   "id": "af9af4c9",
   "metadata": {},
   "outputs": [
    {
     "data": {
      "text/plain": [
       "array([[7.61634375e-49],\n",
       "       [1.90105184e-48],\n",
       "       [3.33876579e-48],\n",
       "       [5.01092224e-48],\n",
       "       [6.85830557e-48],\n",
       "       [8.82764817e-48],\n",
       "       [1.08783283e-47],\n",
       "       [1.29938204e-47],\n",
       "       [1.51984349e-47],\n",
       "       [1.75802676e-47],\n",
       "       [2.03214658e-47],\n",
       "       [2.37370498e-47],\n",
       "       [2.83236316e-47],\n",
       "       [3.48194706e-47],\n",
       "       [4.42773956e-47],\n",
       "       [5.81522118e-47],\n",
       "       [7.84042973e-47],\n",
       "       [1.07621179e-46],\n",
       "       [1.49158964e-46],\n",
       "       [2.07305583e-46]])"
      ]
     },
     "execution_count": 8,
     "metadata": {},
     "output_type": "execute_result"
    }
   ],
   "source": [
    "BB**2 - 4 * AA * CC "
   ]
  },
  {
   "cell_type": "code",
   "execution_count": 9,
   "id": "2a65770f",
   "metadata": {},
   "outputs": [],
   "source": [
    "# eigenvalues = []\n",
    "# for i in range(len(AA)):\n",
    "#     eigenvalues.append( np.roots([AA[i], BB[i], CC[i]]) )\n",
    "eigenvalues = np.empty(k.shape + (2,), dtype=np.complex128)\n",
    "\n",
    "# Loop through each element of the k array\n",
    "for i in range(k.shape[0]):\n",
    "    for j in range(k.shape[1]):\n",
    "        # Get coefficients at this (i, j)\n",
    "        a = AA[i, j]\n",
    "        b = BB[i, j]\n",
    "        c = CC[i, j]\n",
    "        \n",
    "        # Compute roots and store\n",
    "        eigenvalues[i, j, :] = np.roots([a, b, c])"
   ]
  },
  {
   "cell_type": "code",
   "execution_count": 10,
   "id": "c3541955",
   "metadata": {},
   "outputs": [
    {
     "data": {
      "image/png": "[encoded data removed]",
      "text/plain": [
       "<Figure size 800x500 with 1 Axes>"
      ]
     },
     "metadata": {},
     "output_type": "display_data"
    }
   ],
   "source": [
    "cr = np.real(eigenvalues)  # shape (m, n, 2)\n",
    "ci = np.imag(eigenvalues)\n",
    "\n",
    "plt.figure(figsize=(8, 5))\n",
    "\n",
    "# Plot both roots\n",
    "for root_idx in range(2):\n",
    "    # plt.plot(cr[:, :, root_idx].flatten(), linestyle='-', label=f'Re(λ{root_idx+1})')\n",
    "    plt.plot(ci[:, :, root_idx].flatten(), linestyle='--', label=f'Im(λ{root_idx+1})')\n",
    "\n",
    "plt.xlabel(\"Mode index\")\n",
    "plt.ylabel(\"Eigenvalue components\")\n",
    "plt.legend()\n",
    "plt.grid(True)\n",
    "plt.title(\"Real and Imaginary Parts of Eigenvalues\")\n",
    "plt.tight_layout()\n",
    "plt.show()\n",
    "\n",
    "\n"
   ]
  },
  {
   "cell_type": "code",
   "execution_count": 11,
   "id": "55613c6f",
   "metadata": {},
   "outputs": [],
   "source": [
    "cr = np.array([np.real(eigenvalues[i]) for i in range(len(eigenvalues))])\n",
    "ci = np.array([np.imag(eigenvalues[i]) for i in range(len(eigenvalues))])\n",
    "    "
   ]
  },
  {
   "cell_type": "code",
   "execution_count": 12,
   "id": "b468a536",
   "metadata": {},
   "outputs": [
    {
     "data": {
      "image/png": "[encoded data removed]",
      "text/plain": [
       "<Figure size 800x500 with 1 Axes>"
      ]
     },
     "metadata": {},
     "output_type": "display_data"
    }
   ],
   "source": [
    "plt.figure(figsize=(8, 5))\n",
    "\n",
    "# Plot each root (assuming 2 roots per polynomial)\n",
    "for j in range(cr.shape[1]):\n",
    "    plt.plot(cr[:, j], label=f'Re(λ{j+1})', linestyle='-')\n",
    "    plt.plot(ci[:, j], label=f'Im(λ{j+1})', linestyle='--')\n",
    "\n",
    "plt.xlabel('k')\n",
    "plt.ylabel('Eigenvalue Components')\n",
    "plt.title('Real and Imaginary Parts of Eigenvalues')\n",
    "plt.legend()\n",
    "plt.grid(True)\n",
    "plt.tight_layout()\n",
    "plt.show()"
   ]
  },
  {
   "cell_type": "code",
   "execution_count": null,
   "id": "c5a87d06",
   "metadata": {},
   "outputs": [],
   "source": []
  }
 ],
 "metadata": {
  "kernelspec": {
   "display_name": "python",
   "language": "python",
   "name": "python3"
  },
  "language_info": {
   "codemirror_mode": {
    "name": "ipython",
    "version": 3
   },
   "file_extension": ".py",
   "mimetype": "text/x-python",
   "name": "python",
   "nbconvert_exporter": "python",
   "pygments_lexer": "ipython3",
   "version": "3.11.9"
  }
 },
 "nbformat": 4,
 "nbformat_minor": 5
}
